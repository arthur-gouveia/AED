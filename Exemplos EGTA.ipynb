{
 "cells": [
  {
   "cell_type": "markdown",
   "metadata": {},
   "source": [
    "# Estatística Geral Teoria e Aplicações\n",
    "## Pós Graduação em Ciência de Dados e Big Data - PUC Minas\n",
    "\n",
    "Datasets:\n",
    "* https://www.kaggle.com/PromptCloudHQ/imdb-data\n",
    "\n",
    "Referências:\n",
    "* http://www.scipy-lectures.org/packages/statistics/index.html\n",
    "\n",
    "Dicas:\n",
    "* https://github.com/JosPolfliet/pandas-profiling\n",
    "\n",
    "### Índice:\n",
    "* [Tabelas de frequências](#Resumo-de-dados-com-tabelas-de-frequências)\n",
    "* [Medidas de Tendência Central](#Medidas-de-tendência-central)\n",
    "    * [Média](#Média)\n",
    "    * [Mediana](#Mediana)\n",
    "    * [Moda](#Moda)\n",
    "* [Medidas de dispersão](#Medidas-de-dispersão)\n",
    "    * [Amplitude](#Amplitude)\n",
    "    * [Desvio padrão](#Desvio-padrão)\n",
    "* [Medidas de posição](#Medidas-de-posição)\n",
    "    * [Separatrizes](#Separatrizes)\n",
    "    * [Score z](#Score-z)\n",
    "* [Correlação](#Correlação)\n",
    "* [Representações gráficas](#Representações-gráficas)\n",
    "    * [Gráfico de linhas](#Gráfico-de-linhas)\n",
    "    * [Gráfico de barras](#Gráfico-de-barras)\n",
    "    * [Gráfico de setores](#Gráfico-de-setores)\n",
    "    * [Histograma](#Histograma)\n",
    "    * [Diagrama de dispersão](#Diagrama-de-dispersão)\n",
    "    * [Boxplot](#Boxplot)\n",
    "* [Probabilidades](#Probabilidades)\n",
    "    * [Simulações](#Simulações)\n",
    "    * [O problema de Monty Hall](#O-problema-de-Monty-Hall)\n",
    "* [Inferência](#Inferência)\n",
    "    * [Intervalos de confiança](#Intervalos-de-confiança)\n",
    "    * [Testes de hipóteses](#Testes-de-hipóteses)"
   ]
  },
  {
   "cell_type": "code",
   "execution_count": null,
   "metadata": {
    "collapsed": true
   },
   "outputs": [],
   "source": [
    "import math\n",
    "import random\n",
    "\n",
    "import matplotlib.pyplot as plt\n",
    "from matplotlib import style\n",
    "import pandas as pd\n",
    "import scipy\n",
    "import scipy.stats\n",
    "import numpy as np\n",
    "\n",
    "%matplotlib inline"
   ]
  },
  {
   "cell_type": "code",
   "execution_count": null,
   "metadata": {
    "collapsed": false
   },
   "outputs": [],
   "source": [
    "imdb_data = pd.read_csv('dados/IMDB-Movie-Data.csv')"
   ]
  },
  {
   "cell_type": "code",
   "execution_count": null,
   "metadata": {
    "collapsed": false,
    "scrolled": true
   },
   "outputs": [],
   "source": [
    "imdb_data.head()"
   ]
  },
  {
   "cell_type": "code",
   "execution_count": null,
   "metadata": {
    "collapsed": false
   },
   "outputs": [],
   "source": [
    "imdb_data.info()"
   ]
  },
  {
   "cell_type": "code",
   "execution_count": null,
   "metadata": {
    "collapsed": false,
    "scrolled": true
   },
   "outputs": [],
   "source": [
    "imdb_data['main_genre'] = imdb_data.Genre.apply(lambda x: x.split(',')[0]).values\n",
    "imdb_data.head()"
   ]
  },
  {
   "cell_type": "code",
   "execution_count": null,
   "metadata": {
    "collapsed": false,
    "scrolled": true
   },
   "outputs": [],
   "source": [
    "imdb_data.Genre.unique()"
   ]
  },
  {
   "cell_type": "markdown",
   "metadata": {},
   "source": [
    "## Resumo de dados com tabelas de frequências\n",
    "\n",
    "### Dados discretos: Gênero"
   ]
  },
  {
   "cell_type": "code",
   "execution_count": null,
   "metadata": {
    "collapsed": false
   },
   "outputs": [],
   "source": [
    "# O método value_counts de um pandas DataFrame ou pandas Series retorna os valores e a frequência\n",
    "#  de ocorrência dos mesmos ordenado do mais frequente para o menos frequente\n",
    "\n",
    "imdb_data.main_genre.value_counts()"
   ]
  },
  {
   "cell_type": "code",
   "execution_count": null,
   "metadata": {
    "collapsed": false
   },
   "outputs": [],
   "source": [
    "# Para a frequência relativa é só usar o parâmetro normalize=True\n",
    "\n",
    "imdb_data.main_genre.value_counts(normalize=True)"
   ]
  },
  {
   "cell_type": "code",
   "execution_count": null,
   "metadata": {
    "collapsed": false
   },
   "outputs": [],
   "source": [
    "# Pandas possui a função cumsum() para fazer a soma cumulativa\n",
    "# Com isso podemos fazer a Frequência acumulada\n",
    "\n",
    "imdb_data.main_genre.value_counts().cumsum()"
   ]
  },
  {
   "cell_type": "code",
   "execution_count": null,
   "metadata": {
    "collapsed": false
   },
   "outputs": [],
   "source": [
    "# Gerando um DataFrame com todas essas frequências\n",
    "pd.DataFrame({'Fa': imdb_data.main_genre.value_counts(),\n",
    "              'Fac': imdb_data.main_genre.value_counts().cumsum(),\n",
    "              'Fr': imdb_data.main_genre.value_counts(normalize=True)})"
   ]
  },
  {
   "cell_type": "markdown",
   "metadata": {},
   "source": [
    "### Dados contínuos: Rating"
   ]
  },
  {
   "cell_type": "code",
   "execution_count": null,
   "metadata": {
    "collapsed": false
   },
   "outputs": [],
   "source": [
    "n = imdb_data.shape[0]"
   ]
  },
  {
   "cell_type": "code",
   "execution_count": null,
   "metadata": {
    "collapsed": false
   },
   "outputs": [],
   "source": [
    "# Para dados contínuos precisamos definir os limites de classes ou, ao menos, a quantidade de classes\n",
    "\n",
    "# Calculando apenas a quantidade de classes através da raiz de n\n",
    "# Usamos o sort=False para que os dados fiquem ordenados pela classe e não pela frequência\n",
    "# Passamos também o parâmetro bins com a quantidade de classes\n",
    "imdb_data.Rating.value_counts(sort=False, bins=math.sqrt(n))"
   ]
  },
  {
   "cell_type": "code",
   "execution_count": null,
   "metadata": {
    "collapsed": false
   },
   "outputs": [],
   "source": [
    "# Uma outra forma mais \"bonitinha\" é usar a função pd.cut\n",
    "# \n",
    "# Esta função identifica em qual bin está o dado. Porém ela retorna uma pd.Series com os bins \n",
    "# onde os dados estão. Temos, então, que fazer o value_counts.\n",
    "\n",
    "pd.cut(imdb_data.Rating, bins=math.sqrt(n)).value_counts(sort=False)"
   ]
  },
  {
   "cell_type": "code",
   "execution_count": null,
   "metadata": {
    "collapsed": false
   },
   "outputs": [],
   "source": [
    "# Outra vantagem do pd.cut é que podemos passar os limites das classes e não apenas o intervalo de classes.\n",
    "\n",
    "# Vamos calcular \"na unha\" as classes para a coluna Rating\n",
    "k = math.sqrt(n)\n",
    "k = 20 if k > 20 else int(k) # Limita a quantidade de classes em 20. Opcional\n",
    "h = (imdb_data.Rating.max() - imdb_data.Rating.min()) / (k - 1)\n",
    "bins = [imdb_data.Rating.min() - h/2]\n",
    "for i in range(k):\n",
    "    bins.append(bins[i] + h)\n",
    "pd.cut(imdb_data.Rating, bins).value_counts(sort=False)"
   ]
  },
  {
   "cell_type": "code",
   "execution_count": null,
   "metadata": {
    "collapsed": false
   },
   "outputs": [],
   "source": [
    "imdb_data[imdb_data.Rating < 2]"
   ]
  },
  {
   "cell_type": "code",
   "execution_count": null,
   "metadata": {
    "collapsed": false
   },
   "outputs": [],
   "source": [
    "imdb_data[imdb_data.Rating == imdb_data.Rating.max()]"
   ]
  },
  {
   "cell_type": "code",
   "execution_count": null,
   "metadata": {
    "collapsed": false,
    "scrolled": true
   },
   "outputs": [],
   "source": [
    "# A função pd.cut é útil para transformar uma variável contínua em discreta no seu DataFrame\n",
    "\n",
    "imdb_data['Rating Bin'] = pd.cut(imdb_data.Rating, bins)\n",
    "imdb_data.head()"
   ]
  },
  {
   "cell_type": "markdown",
   "metadata": {},
   "source": [
    "[Voltar](#Índice:)\n",
    "\n",
    "## Medidas de tendência central\n",
    "\n",
    "### Média"
   ]
  },
  {
   "cell_type": "code",
   "execution_count": null,
   "metadata": {
    "collapsed": false
   },
   "outputs": [],
   "source": [
    "# pandas DataFrames e pandas Series têm métodos específicos para calcular a média das colunas\n",
    "\n",
    "imdb_data.mean()"
   ]
  },
  {
   "cell_type": "code",
   "execution_count": null,
   "metadata": {
    "collapsed": false,
    "scrolled": true
   },
   "outputs": [],
   "source": [
    "# Se, por algum motivo, quiser calcular a média das linhas\n",
    "\n",
    "imdb_data.mean(axis=1)"
   ]
  },
  {
   "cell_type": "code",
   "execution_count": null,
   "metadata": {
    "collapsed": false
   },
   "outputs": [],
   "source": [
    "# Se não for um pandas DataFrame, precisa da biblioteca Numpy para alta performance\n",
    "# ou do módulo statistics sem precisar instalar nada\n",
    "\n",
    "import numpy as np\n",
    "import statistics\n",
    "\n",
    "data_list_ímpar = [1, 2, 3, 4, 5]\n",
    "data_list_par = [1, 2, 3, 4]\n",
    "\n",
    "print(np.mean(data_list_ímpar))\n",
    "print(np.mean(data_list_par))\n",
    "print(statistics.mean(data_list_ímpar))"
   ]
  },
  {
   "cell_type": "code",
   "execution_count": null,
   "metadata": {
    "collapsed": false
   },
   "outputs": [],
   "source": [
    "# Cuidado com os missings. \n",
    "statistics.mean(imdb_data.Metascore)"
   ]
  },
  {
   "cell_type": "code",
   "execution_count": null,
   "metadata": {
    "collapsed": false
   },
   "outputs": [],
   "source": [
    "# numpy.mean já resiste bem aos missings\n",
    "np.mean(imdb_data.Metascore)"
   ]
  },
  {
   "cell_type": "code",
   "execution_count": null,
   "metadata": {
    "collapsed": false
   },
   "outputs": [],
   "source": [
    "# Gerando dados para comparar a performance\n",
    "big_data = [random.gauss(0, 1) for i in range(1000000)]"
   ]
  },
  {
   "cell_type": "code",
   "execution_count": null,
   "metadata": {
    "collapsed": false
   },
   "outputs": [],
   "source": [
    "%%timeit\n",
    "np.mean(big_data)"
   ]
  },
  {
   "cell_type": "code",
   "execution_count": null,
   "metadata": {
    "collapsed": false
   },
   "outputs": [],
   "source": [
    "%%timeit\n",
    "statistics.mean(big_data)"
   ]
  },
  {
   "cell_type": "markdown",
   "metadata": {},
   "source": [
    "### Propriedades algébricas da média"
   ]
  },
  {
   "cell_type": "code",
   "execution_count": null,
   "metadata": {
    "collapsed": false
   },
   "outputs": [],
   "source": [
    "big_média = np.mean(big_data)\n",
    "desvios = [data - big_média for data in big_data]\n",
    "print(\"Soma dos desvios em relação à média: {:0.8f}\".format(sum(desvios)))"
   ]
  },
  {
   "cell_type": "code",
   "execution_count": null,
   "metadata": {
    "collapsed": false
   },
   "outputs": [],
   "source": [
    "constantes = [random.gauss(0, 0.1) for i in range(10)]\n",
    "\n",
    "for constante in constantes:\n",
    "    print(\"Soma dos quadrados dos desvios em relação a {:0.3f}: {:0.8f}\".format(constante,\n",
    "                                                                                sum([(data - constante)**2 for data in big_data])))\n",
    "    \n",
    "print(\"Soma dos quadrados dos desvios em relação à média: {:0.8f}\".format(constante,\n",
    "                                                                            sum([(data - big_média)**2 for data in big_data])))"
   ]
  },
  {
   "cell_type": "code",
   "execution_count": null,
   "metadata": {
    "collapsed": false
   },
   "outputs": [],
   "source": [
    "print(\"Média dos dados:\", big_média)\n",
    "média3 = np.mean([np.multiply(data, 3) for data in big_data])\n",
    "print(\"Média dos dados multiplicados por três:\", média3)\n",
    "print(\"Diferença entre essa média e big_média x 3:\", média3 - (big_média * 3.0))\n",
    "print('Essa média é \"igual\" a big_média x 3?', math.isclose(média3, big_média*3))\n",
    "print()\n",
    "média2 = np.mean([data/2 for data in big_data])\n",
    "print(\"Média dos dados divididos por dois:\", média2)\n",
    "print(\"Diferença entre essa média e big_média / 2:\", média2 - big_média/2)\n",
    "print('Essa média é \"igual\" a big_média / 2?', math.isclose(média2, big_média/2))"
   ]
  },
  {
   "cell_type": "markdown",
   "metadata": {},
   "source": [
    "### Mediana"
   ]
  },
  {
   "cell_type": "code",
   "execution_count": null,
   "metadata": {
    "collapsed": false
   },
   "outputs": [],
   "source": [
    "# Mesma coisa com a mediana\n",
    "imdb_data.median()"
   ]
  },
  {
   "cell_type": "code",
   "execution_count": null,
   "metadata": {
    "collapsed": false
   },
   "outputs": [],
   "source": [
    "print(np.median(data_list_ímpar))\n",
    "print(np.median(data_list_par))\n",
    "print(statistics.median(data_list_par))"
   ]
  },
  {
   "cell_type": "code",
   "execution_count": null,
   "metadata": {
    "collapsed": false
   },
   "outputs": [],
   "source": [
    "# Cuidado com dados faltantes\n",
    "\n",
    "np.median(imdb_data.Metascore)"
   ]
  },
  {
   "cell_type": "code",
   "execution_count": null,
   "metadata": {
    "collapsed": false
   },
   "outputs": [],
   "source": [
    "# Pra isso numpy tem uma série de métodos que começam com numpy.nan\n",
    "np.nanmedian(imdb_data.Metascore)"
   ]
  },
  {
   "cell_type": "code",
   "execution_count": null,
   "metadata": {
    "collapsed": false
   },
   "outputs": [],
   "source": [
    "# Como a média e a mediana se comportam com dados extremos?\n",
    "data = [2, 3, 4, 2, 3, 1, 3]\n",
    "print(\"Média de {}: {:0.2f}\".format(data, np.mean(data)))\n",
    "print(\"Mediana de {}: {}\".format(data, np.median(data)))\n",
    "data_extremo = data + [1000]\n",
    "print(\"Média de {}: {}:\".format(data_extremo, np.mean(data_extremo)))\n",
    "print(\"Mediana de {}: {}\".format(data_extremo, np.median(data_extremo)))"
   ]
  },
  {
   "cell_type": "markdown",
   "metadata": {},
   "source": [
    "### Moda"
   ]
  },
  {
   "cell_type": "code",
   "execution_count": null,
   "metadata": {
    "collapsed": false
   },
   "outputs": [],
   "source": [
    "imdb_data.mode()"
   ]
  },
  {
   "cell_type": "code",
   "execution_count": null,
   "metadata": {
    "collapsed": false
   },
   "outputs": [],
   "source": [
    "# Numpy não tem um método para cálculo da moda. Esse método está no módulo scipy.stats\n",
    "from scipy import stats\n",
    "moda = stats.mode(['a', 'b', 'c', 'd', 'e', 'e', 'f', 'f', 'f', 'g', 'h'])\n",
    "print(\"Moda: {[0]}\".format(moda))\n",
    "print(\"Frequência: {[1]}\".format(moda))"
   ]
  },
  {
   "cell_type": "code",
   "execution_count": null,
   "metadata": {
    "collapsed": false
   },
   "outputs": [],
   "source": [
    "statistics.mode(['a', 'b', 'c', 'd', 'e', 'e', 'f', 'f', 'f', 'g', 'h'])"
   ]
  },
  {
   "cell_type": "code",
   "execution_count": null,
   "metadata": {
    "collapsed": false
   },
   "outputs": [],
   "source": [
    "# O problema do método mode do módulo statistics é que se existir mais de uma moda\n",
    "# o código gera uma exceção\n",
    "\n",
    "\n",
    "statistics.mode(['a', 'b', 'c', 'd', 'e', 'e', 'f', 'f', 'g', 'g', 'h'])"
   ]
  },
  {
   "cell_type": "code",
   "execution_count": null,
   "metadata": {
    "collapsed": false
   },
   "outputs": [],
   "source": [
    "# Numpy/Scipy retornam a primeira moda, não retornam todas 😒\n",
    "stats.mode(['a', 'b', 'c', 'd', 'e', 'e', 'f', 'f', 'g', 'g', 'h'])"
   ]
  },
  {
   "cell_type": "code",
   "execution_count": null,
   "metadata": {
    "collapsed": false
   },
   "outputs": [],
   "source": [
    "%%timeit\n",
    "statistics.mode([1, 2, 3, 3, 4, 4, 4, 4, 5, 5, 5, 6, 7, 7, 8])"
   ]
  },
  {
   "cell_type": "code",
   "execution_count": null,
   "metadata": {
    "collapsed": false
   },
   "outputs": [],
   "source": [
    "%%timeit\n",
    "stats.mode([1, 2, 3, 3, 4, 4, 4, 4, 5, 5, 5, 6, 7, 7, 8])"
   ]
  },
  {
   "cell_type": "markdown",
   "metadata": {},
   "source": [
    "## Medidas de dispersão\n",
    "### Amplitude"
   ]
  },
  {
   "cell_type": "code",
   "execution_count": null,
   "metadata": {
    "collapsed": false
   },
   "outputs": [],
   "source": [
    "# pandas não nos fornece um método para calcular a amplitude...\n",
    "\n",
    "imdb_data[['Rank', 'Year', 'Runtime (Minutes)', 'Rating', 'Votes',\n",
    "       'Revenue (Millions)', 'Metascore']].apply(lambda col: col.max() - col.min())"
   ]
  },
  {
   "cell_type": "code",
   "execution_count": null,
   "metadata": {
    "collapsed": false
   },
   "outputs": [],
   "source": [
    "# numpy.ptp não funcionou diretamente com o DataFrame. Tive que transformar em um array\n",
    "\n",
    "# Novamente o problema com os dados faltantes\n",
    "np.ptp(imdb_data[['Rank', 'Year', 'Runtime (Minutes)', 'Rating', 'Votes', 'Revenue (Millions)', 'Metascore']].values, axis=0)\n"
   ]
  },
  {
   "cell_type": "code",
   "execution_count": null,
   "metadata": {
    "collapsed": false
   },
   "outputs": [],
   "source": [
    "# Ou então...\n",
    "imdb_data[['Rank', 'Year', 'Runtime (Minutes)', 'Rating', 'Votes', 'Revenue (Millions)', 'Metascore']].apply(np.ptp)"
   ]
  },
  {
   "cell_type": "markdown",
   "metadata": {},
   "source": [
    "### Desvio padrão"
   ]
  },
  {
   "cell_type": "code",
   "execution_count": null,
   "metadata": {
    "collapsed": false
   },
   "outputs": [],
   "source": [
    "# Aqui aparece a questão do ddof. O denominador da fórmula do\n",
    "# desvio padrão é n-ddof. Como na fórmula que definimos o\n",
    "# denominador é n-1 recomendo usar ddof=1; mas só para efeitos\n",
    "# acadêmicos. Para efeitos práticos em um projeto de DS pode\n",
    "# deixar ddof=0 pois o desvio padrão nesses casos é um orientador\n",
    "# e não um número sobre o qual efetivamente se tomarão decisões\n",
    "# erradas com base em diferenças na segunda ou terceira casa decimal\n",
    "\n",
    "imdb_data.std(ddof=1)"
   ]
  },
  {
   "cell_type": "code",
   "execution_count": null,
   "metadata": {
    "collapsed": false
   },
   "outputs": [],
   "source": [
    "np.std(imdb_data.Metascore, ddof=1)"
   ]
  },
  {
   "cell_type": "code",
   "execution_count": null,
   "metadata": {
    "collapsed": false
   },
   "outputs": [],
   "source": [
    "np.std([1, 2, 3, 4], ddof=1)"
   ]
  },
  {
   "cell_type": "code",
   "execution_count": null,
   "metadata": {
    "collapsed": false
   },
   "outputs": [],
   "source": [
    "k = [1, 2, 3, 4]\n",
    "np.sqrt(sum([(i-2.5)**2 for i in k])/3)"
   ]
  },
  {
   "cell_type": "markdown",
   "metadata": {},
   "source": [
    "## Medidas de posição\n",
    "### Separatrizes"
   ]
  },
  {
   "cell_type": "code",
   "execution_count": null,
   "metadata": {
    "collapsed": false
   },
   "outputs": [],
   "source": [
    "# No método quantile do pandas DataFrame ou pandas Series o percentil vai de 0 a 1\n",
    "imdb_data.quantile(0.25)"
   ]
  },
  {
   "cell_type": "code",
   "execution_count": null,
   "metadata": {
    "collapsed": false
   },
   "outputs": [],
   "source": [
    "# No numpy.percentile ou numpy.nanpercentile já é de 0 a 100\n",
    "np.nanpercentile(imdb_data['Revenue (Millions)'], 25)"
   ]
  },
  {
   "cell_type": "code",
   "execution_count": null,
   "metadata": {
    "collapsed": false
   },
   "outputs": [],
   "source": [
    "data_list_par"
   ]
  },
  {
   "cell_type": "code",
   "execution_count": null,
   "metadata": {
    "collapsed": false
   },
   "outputs": [],
   "source": [
    "np.percentile(data_list_par, 75)"
   ]
  },
  {
   "cell_type": "code",
   "execution_count": null,
   "metadata": {
    "collapsed": false
   },
   "outputs": [],
   "source": [
    "# Comparando o manual com o automático\n",
    "\n",
    "#Usando a interpolação 'midpoint' para comparar com o que nós convencionamos\n",
    "np.percentile(data_list_par, 75, interpolation='midpoint')"
   ]
  },
  {
   "cell_type": "code",
   "execution_count": null,
   "metadata": {
    "collapsed": false
   },
   "outputs": [],
   "source": [
    "# Fazendo 'na unha'\n",
    "\n",
    "\n",
    "def percentil(data, i):\n",
    "    n = len(data)\n",
    "    # Econtrando a posição\n",
    "    P = i * (n + 1) / 100\n",
    "    if P == int(P):\n",
    "        percent = data[P-1]\n",
    "    else:\n",
    "        P = int(P)\n",
    "        percent = (data[P-1] + data[P])/2\n",
    "\n",
    "    return percent\n",
    "\n",
    "percentil(data_list_par, 75)"
   ]
  },
  {
   "cell_type": "code",
   "execution_count": null,
   "metadata": {
    "collapsed": false
   },
   "outputs": [],
   "source": [
    "percentil(data_list_ímpar, 75)"
   ]
  },
  {
   "cell_type": "code",
   "execution_count": null,
   "metadata": {
    "collapsed": false
   },
   "outputs": [],
   "source": [
    "np.percentile(data_list_ímpar, 75)"
   ]
  },
  {
   "cell_type": "code",
   "execution_count": null,
   "metadata": {
    "collapsed": false
   },
   "outputs": [],
   "source": [
    "data_list_ímpar"
   ]
  },
  {
   "cell_type": "markdown",
   "metadata": {},
   "source": [
    "### _Score_ z"
   ]
  },
  {
   "cell_type": "code",
   "execution_count": null,
   "metadata": {
    "collapsed": false,
    "scrolled": true
   },
   "outputs": [],
   "source": [
    "# O pandas não tem uma função pronta mas é relativamente fácil fazer a transformação\n",
    "imdb_data[['Runtime (Minutes)', 'Rating', 'Votes',\n",
    "       'Revenue (Millions)', 'Metascore']].apply(lambda col: (col - col.mean())/col.std())"
   ]
  },
  {
   "cell_type": "code",
   "execution_count": null,
   "metadata": {
    "collapsed": false
   },
   "outputs": [],
   "source": [
    "# Numpy também não, então tem que apelar para o scipy.stats\n",
    "# O problema é que ele não consegue tratar as colunas com missing\n",
    "\n",
    "print(stats.zscore(imdb_data[['Runtime (Minutes)', 'Rating', 'Votes',\n",
    "       'Revenue (Millions)', 'Metascore']], ddof=1))"
   ]
  },
  {
   "cell_type": "code",
   "execution_count": null,
   "metadata": {
    "collapsed": false
   },
   "outputs": [],
   "source": [
    "# Neste caso a melhor opção é usar o scikit-learn pois ele armazena\n",
    "# a média e o desvio padrão usados na transformação\n",
    "\n",
    "# O 'problema' é que não aceita valores missing....\n",
    "\n",
    "from sklearn import preprocessing\n",
    "\n",
    "# Cria a instância do objeto StandardScaler\n",
    "zscorer = preprocessing.StandardScaler()\n",
    "\n",
    "# \"Armazena\" os dados de média e desvio padrão das colunas\n",
    "zscorer.fit(imdb_data[['Runtime (Minutes)', 'Rating', 'Votes']])\n",
    "\n",
    "# Efetivamente aplica a transformação utilizando a média e desvio armazenados\n",
    "# Você pode aplicar o método transform em bases futuras com as mesmas variáveis!\n",
    "zscorer.transform(imdb_data[['Runtime (Minutes)', 'Rating', 'Votes']])"
   ]
  },
  {
   "cell_type": "markdown",
   "metadata": {
    "collapsed": true
   },
   "source": [
    "## Correlação"
   ]
  },
  {
   "cell_type": "code",
   "execution_count": null,
   "metadata": {
    "collapsed": false
   },
   "outputs": [],
   "source": [
    "imdb_data[['Year', 'Runtime (Minutes)', 'Rating', 'Votes', 'Revenue (Millions)', 'Metascore']].corr()"
   ]
  },
  {
   "cell_type": "markdown",
   "metadata": {
    "collapsed": true
   },
   "source": [
    "## Representações gráficas\n",
    "### Gráfico de linhas"
   ]
  },
  {
   "cell_type": "code",
   "execution_count": null,
   "metadata": {
    "collapsed": false
   },
   "outputs": [],
   "source": [
    "style.use('ggplot')\n",
    "# Como os dados da base MetaScore não são contínuos pelo tempo não podemos (ou pelo menos não devemos) fazer gráficos de linhas\n",
    "# Portanto vou gerar dados aleatórios\n",
    "random_data = pd.Series([random.gauss(mu=50, sigma=3) for r in range(30)])\n",
    "# E colocar um índice com datas de trinta dias atrás até ontem\n",
    "random_data.index = pd.date_range(pd.Timestamp.now().date() - pd.Timedelta('30D'), periods=30)\n",
    "\n",
    "ax = random_data.plot(figsize=(12, 5), marker='.')\n",
    "ax.set_title(\"Vendas em milhões de reais\")\n",
    "\n",
    "for x, y in zip(random_data.index, random_data.values):\n",
    "    ax.annotate('{:0.2f}'.format(y), xy=(x, y), ha='center', va='bottom', rotation=45)"
   ]
  },
  {
   "cell_type": "markdown",
   "metadata": {},
   "source": [
    "### Gráfico de barras"
   ]
  },
  {
   "cell_type": "code",
   "execution_count": null,
   "metadata": {
    "collapsed": false
   },
   "outputs": [],
   "source": [
    "imdb_data['Year'].value_counts(sort=False).plot.bar(title='Quantidade de filmes lançados por ano', figsize=(10, 5));"
   ]
  },
  {
   "cell_type": "markdown",
   "metadata": {},
   "source": [
    "### Gráfico de setores"
   ]
  },
  {
   "cell_type": "code",
   "execution_count": null,
   "metadata": {
    "collapsed": false
   },
   "outputs": [],
   "source": [
    "# Aqui damos um \"tapa\" no visual. Alteramos o mapa de cores.\n",
    "# Para ver os mapas de cores visite https://matplotlib.org/examples/color/colormaps_reference.html\n",
    "\n",
    "imdb_data.Year.value_counts().plot.pie(figsize=(5,5), autopct='%0.1f%%', colormap='Spectral');"
   ]
  },
  {
   "cell_type": "markdown",
   "metadata": {},
   "source": [
    "### Histograma"
   ]
  },
  {
   "cell_type": "code",
   "execution_count": null,
   "metadata": {
    "collapsed": false
   },
   "outputs": [],
   "source": [
    "imdb_data[['Metascore', 'Rating', 'Revenue (Millions)', 'Runtime (Minutes)']].hist(figsize=(12, 5));"
   ]
  },
  {
   "cell_type": "code",
   "execution_count": null,
   "metadata": {
    "collapsed": false
   },
   "outputs": [],
   "source": [
    "# Fazendo \"na unha\"\n",
    "# Já fizemos, lembram????\n",
    "\n",
    "# Vamos calcular \"na unha\" as classes para a coluna Rating\n",
    "n = len(imdb_data.Rating.values)\n",
    "k = math.sqrt(n)\n",
    "k = 20 if k > 20 else int(k) # Limita a quantidade de classes em 20. Opcional\n",
    "h = (imdb_data.Rating.max() - imdb_data.Rating.min()) / (k - 1)\n",
    "bins = [imdb_data.Rating.min() - h/2]\n",
    "for i in range(k):\n",
    "    bins.append(bins[i] + h)\n",
    "ax = pd.cut(imdb_data.Rating, bins).value_counts(sort=False).plot.bar(width=1)\n",
    "ax.set_title('Rating');"
   ]
  },
  {
   "cell_type": "markdown",
   "metadata": {},
   "source": [
    "### Diagrama de dispersão"
   ]
  },
  {
   "cell_type": "code",
   "execution_count": null,
   "metadata": {
    "collapsed": false
   },
   "outputs": [],
   "source": [
    "pd.tools.plotting.scatter_matrix(imdb_data[['Metascore', 'Rating', 'Revenue (Millions)', 'Runtime (Minutes)']], diagonal='kde');"
   ]
  },
  {
   "cell_type": "code",
   "execution_count": null,
   "metadata": {
    "collapsed": false
   },
   "outputs": [],
   "source": [
    "imdb_data.plot.scatter('Rating', 'Metascore');"
   ]
  },
  {
   "cell_type": "markdown",
   "metadata": {},
   "source": [
    "### Boxplot"
   ]
  },
  {
   "cell_type": "code",
   "execution_count": null,
   "metadata": {
    "collapsed": false,
    "scrolled": true
   },
   "outputs": [],
   "source": [
    "imdb_data[['Metascore', 'Rating', 'Revenue (Millions)', 'Runtime (Minutes)']].boxplot();"
   ]
  },
  {
   "cell_type": "markdown",
   "metadata": {},
   "source": [
    "## Probabilidades\n",
    "\n",
    "### Simulações"
   ]
  },
  {
   "cell_type": "code",
   "execution_count": null,
   "metadata": {
    "collapsed": false
   },
   "outputs": [],
   "source": [
    "import random# Probabilidade de nascerem mais que 127 homens em 152 nascimentos\n",
    "\n",
    "mais_que_127 = 0\n",
    "testes = 10000\n",
    "for i in range(testes):\n",
    "    nascimentos = [random.choice([0, 1]) for i in range(152)]\n",
    "    if sum(nascimentos) >= 127:\n",
    "        mais_que_127 += 1\n",
    "print(\"Probabilidade de nascerem mais que 127 homens em 152 nascimentos: {:0.2%}\".format(mais_que_127 / testes))"
   ]
  },
  {
   "cell_type": "code",
   "execution_count": null,
   "metadata": {
    "collapsed": false
   },
   "outputs": [],
   "source": [
    "# Probabilidade de que duas pessoas em um grupo de 25 tenham nascido no mesmo dia\n",
    "\n",
    "datas_iguais = 0\n",
    "testes = 100000\n",
    "for i in range(testes):\n",
    "    nascimentos = [random.randint(1, 365) for i in range(25)]\n",
    "    if len(nascimentos) > len(set(nascimentos)):\n",
    "        datas_iguais += 1\n",
    "print(\"Probabilidade de que duas pessoas em um grupo de 25 tenham a mesma data de nascimento: {:0.2%}\".format(datas_iguais / testes))"
   ]
  },
  {
   "cell_type": "code",
   "execution_count": null,
   "metadata": {
    "collapsed": false
   },
   "outputs": [],
   "source": [
    "# Probabilidade de termos uma sequência de seis \"caras\" ou seis \"coroas\" em 200 lançamentos de moeda\n",
    "\n",
    "tem_sequência = 0\n",
    "testes = 10000\n",
    "for i in range(testes):\n",
    "    lançamentos = \"\".join([str(random.choice([0, 1])) for i in range(200)])\n",
    "    if 6*\"0\" in lançamentos or 6*\"1\" in lançamentos:\n",
    "        tem_sequência += 1\n",
    "\n",
    "print('Probabilidade de termos uma sequência de seis \"caras\" ou seis \"coroas\" em 200 lançamentos de moeda: {:0.2%}'.format(tem_sequência / testes)) "
   ]
  },
  {
   "cell_type": "markdown",
   "metadata": {},
   "source": [
    "### O problema de Monty Hall"
   ]
  },
  {
   "cell_type": "code",
   "execution_count": null,
   "metadata": {
    "collapsed": false
   },
   "outputs": [],
   "source": [
    "# Sempre trocando de porta\n",
    "venceu = 0\n",
    "testes = 1000 \n",
    "\n",
    "for i in range(testes):\n",
    "    portas = {1, 2, 3}\n",
    "    porta_premiada = random.randint(1, 3)\n",
    "    porta_escolhida = random.randint(1, 3)\n",
    "    porta_aberta = portas.difference([porta_premiada, porta_escolhida]).pop()\n",
    "    porta_escolhida = portas.difference([porta_escolhida, porta_aberta]).pop()\n",
    "    if porta_premiada == porta_escolhida:\n",
    "        venceu += 1\n",
    "        \n",
    "print(\"Probabilidade de vitória sempre trocando de porta: {:0.2%}\".format(venceu / testes))"
   ]
  },
  {
   "cell_type": "code",
   "execution_count": null,
   "metadata": {
    "collapsed": false
   },
   "outputs": [],
   "source": [
    "# Nunca trocando de porta\n",
    "venceu = 0\n",
    "testes = 1000\n",
    "\n",
    "for i in range(testes):\n",
    "    portas = {1, 2, 3}\n",
    "    porta_premiada = random.randint(1, 3)\n",
    "    porta_escolhida = random.randint(1, 3)\n",
    "    if porta_premiada == porta_escolhida:\n",
    "        venceu += 1\n",
    "        \n",
    "print(\"Probabilidade de vitória nunca trocando de porta: {:0.2%}\".format(venceu / testes))"
   ]
  },
  {
   "cell_type": "code",
   "execution_count": null,
   "metadata": {
    "collapsed": false
   },
   "outputs": [],
   "source": [
    "# Trocando eventualmente de porta\n",
    "venceu = 0\n",
    "testes = 1000\n",
    "\n",
    "for i in range(testes):\n",
    "    portas = {1, 2, 3}\n",
    "    porta_premiada = random.randint(1, 3)\n",
    "    porta_escolhida = random.randint(1, 3)\n",
    "    porta_aberta = portas.difference([porta_premiada, porta_escolhida]).pop()\n",
    "    if random.randint(0, 1):\n",
    "        porta_escolhida = portas.difference([porta_escolhida, porta_aberta]).pop()\n",
    "    if porta_premiada == porta_escolhida:\n",
    "        venceu += 1\n",
    "        \n",
    "print(\"Probabilidade de vitória trocando eventualmente de porta: {:0.2%}\".format(venceu / testes))"
   ]
  },
  {
   "cell_type": "markdown",
   "metadata": {},
   "source": [
    "## Inferência\n",
    "\n",
    "### Intervalos de confiança"
   ]
  },
  {
   "cell_type": "code",
   "execution_count": null,
   "metadata": {
    "collapsed": false
   },
   "outputs": [],
   "source": [
    "# Fazendo \"na unha\"\n",
    "alpha = 0.05\n",
    "z = scipy.stats.norm().ppf(1 - alpha/2)\n",
    "data = [random.gauss(50, 0.2) for i in range(50)]\n",
    "n = len(data)\n",
    "média = np.mean(data)\n",
    "desvio = np.std(data, ddof=1)\n",
    "E = z*desvio/np.sqrt(n)\n",
    "print(\"Intervalo de confiança para a média dos dados: ({}, {}, {})\".format(média-E, média, média+E))"
   ]
  },
  {
   "cell_type": "code",
   "execution_count": null,
   "metadata": {
    "collapsed": false
   },
   "outputs": [],
   "source": [
    "# Usando scipy\n",
    "scipy.stats.norm.interval(0.95, loc=média, scale=desvio/np.sqrt(n))\n",
    "\n",
    "# Por que usar o desvio dividido pela raiz de n?\n",
    "# https://stackoverflow.com/questions/28242593/correct-way-to-obtain-confidence-interval-with-scipy/28243282#28243282"
   ]
  },
  {
   "cell_type": "code",
   "execution_count": null,
   "metadata": {
    "collapsed": false
   },
   "outputs": [],
   "source": [
    "# Calcular o intervalo de confiança para a média do MetaScore\n",
    "scipy.stats.norm.interval(0.95, imdb_data.Metascore.mean(), imdb_data.Metascore.std(ddof=1)/np.sqrt(len(imdb_data.Metascore)))"
   ]
  },
  {
   "cell_type": "code",
   "execution_count": null,
   "metadata": {
    "collapsed": false
   },
   "outputs": [],
   "source": [
    "# Usando a distribuição T de student.\n",
    "# Funciona bem para amostras pequenas SE OS DADOS SEGUEM UMA DISTRIBUIÇÃO NORMAL.\n",
    "\n",
    "# Fazendo \"na unha\"\n",
    "alpha = 0.05\n",
    "t = scipy.stats.t.ppf(1 - alpha/2, len(data)-1)\n",
    "data = [random.gauss(300, 2) for i in range(10)]\n",
    "n = len(data)\n",
    "média = np.mean(data)\n",
    "desvio = np.std(data, ddof=1)\n",
    "E = t*desvio/np.sqrt(n)\n",
    "print(\"Intervalo de confiança para a média dos dados: ({}, {}, {})\".format(média-E, média, média+E))"
   ]
  },
  {
   "cell_type": "code",
   "execution_count": null,
   "metadata": {
    "collapsed": false
   },
   "outputs": [],
   "source": [
    "scipy.stats.t.interval(0.95, len(data)-1, np.mean(data), np.std(data, ddof=1)/np.sqrt(n))"
   ]
  },
  {
   "cell_type": "markdown",
   "metadata": {},
   "source": [
    "### Testes de hipóteses"
   ]
  },
  {
   "cell_type": "code",
   "execution_count": null,
   "metadata": {
    "collapsed": false
   },
   "outputs": [],
   "source": [
    "imdb_data.groupby('Year')['Metascore'].mean().plot.bar();"
   ]
  },
  {
   "cell_type": "code",
   "execution_count": null,
   "metadata": {
    "collapsed": false
   },
   "outputs": [],
   "source": [
    "# Será que os filmes de 2006 e 2007 têm notas médias melhores que os filmes dos outros anos?\n",
    "até_2007 = imdb_data.loc[imdb_data.Year <= 2007, 'Metascore']\n",
    "pós_2007 = imdb_data.loc[imdb_data.Year > 2007, 'Metascore']\n",
    "scipy.stats.ttest_ind(até_2007, pós_2007, nan_policy='omit')"
   ]
  },
  {
   "cell_type": "code",
   "execution_count": null,
   "metadata": {
    "collapsed": false
   },
   "outputs": [],
   "source": [
    "# Comparando a diferença ano a ano através de uma ANOVA\n",
    "#scipy.stats.f_oneway()\n",
    "\n",
    "ar = imdb_data.groupby('Year').apply(lambda x: x.Metascore[x.Metascore.notnull()].reset_index(drop=True)).unstack(level=0).values\n",
    "arT = imdb_data.groupby('Year').apply(lambda x: x.Metascore[x.Metascore.notnull()].reset_index(drop=True)).unstack(level=0).T.values"
   ]
  },
  {
   "cell_type": "code",
   "execution_count": null,
   "metadata": {
    "collapsed": false,
    "scrolled": true
   },
   "outputs": [],
   "source": [
    "df = imdb_data.groupby('Year').apply(lambda x: x.Metascore[x.Metascore.notnull()].reset_index(drop=True)).unstack(level=0)\n",
    "data = [df[col].dropna().values for col in df]\n",
    "df"
   ]
  },
  {
   "cell_type": "code",
   "execution_count": null,
   "metadata": {
    "collapsed": false
   },
   "outputs": [],
   "source": [
    "scipy.stats.f_oneway(*data)"
   ]
  },
  {
   "cell_type": "code",
   "execution_count": null,
   "metadata": {
    "collapsed": false
   },
   "outputs": [],
   "source": [
    "plt.figure()\n",
    "plt.boxplot(data);"
   ]
  },
  {
   "cell_type": "code",
   "execution_count": null,
   "metadata": {
    "collapsed": false,
    "scrolled": false
   },
   "outputs": [],
   "source": [
    "plt.figure()\n",
    "plt.boxplot([até_2007.dropna().values, pós_2007.dropna().values]);"
   ]
  },
  {
   "cell_type": "code",
   "execution_count": null,
   "metadata": {
    "collapsed": true
   },
   "outputs": [],
   "source": []
  }
 ],
 "metadata": {
  "anaconda-cloud": {},
  "kernelspec": {
   "display_name": "Python [default]",
   "language": "python",
   "name": "python3"
  },
  "language_info": {
   "codemirror_mode": {
    "name": "ipython",
    "version": 3
   },
   "file_extension": ".py",
   "mimetype": "text/x-python",
   "name": "python",
   "nbconvert_exporter": "python",
   "pygments_lexer": "ipython3",
   "version": "3.5.4"
  }
 },
 "nbformat": 4,
 "nbformat_minor": 1
}
